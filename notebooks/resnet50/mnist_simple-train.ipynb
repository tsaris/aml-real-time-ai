{
 "cells": [
  {
   "cell_type": "code",
   "execution_count": 2,
   "metadata": {},
   "outputs": [],
   "source": [
    "import os\n",
    "import sys\n",
    "import tensorflow as tf\n",
    "import numpy as np\n",
    "import amlrealtimeai\n",
    "from amlrealtimeai import resnet50\n",
    "\n",
    "import h5py"
   ]
  },
  {
   "cell_type": "code",
   "execution_count": 4,
   "metadata": {
    "scrolled": false
   },
   "outputs": [
    {
     "name": "stdout",
     "output_type": "stream",
     "text": [
      "<class 'numpy.ndarray'>\n",
      "(500, 224, 224, 3)\n"
     ]
    }
   ],
   "source": [
    "import matplotlib.pyplot as plt\n",
    "from tqdm import tqdm\n",
    "\n",
    "# Load MNIST\n",
    "f = h5py.File(\"//Users/atsaris/mygit_repos/ml_service/datasets/RandomData/hdf5/mnist_test.hdf5\",'r')\n",
    "images = np.array(f['features'])\n",
    "images = images.reshape(images.shape[0], images.shape[2], images.shape[3], images.shape[1])/255.\n",
    "#print(images[0,:,:,-1].shape)\n",
    "#plt.imshow(images[0,:,:,-1])\n",
    "labels = np.array(f['targets'])\n",
    "labels = labels.reshape(labels.shape[0])\n",
    "f.close()\n",
    "\n",
    "NUMBER_OF_DATA = 500\n",
    "\n",
    "# Reshape the image\n",
    "images = images[:NUMBER_OF_DATA]\n",
    "sess = tf.Session()\n",
    "with sess.as_default():\n",
    "    images_tf = tf.image.grayscale_to_rgb(images)\n",
    "    images_tf = tf.image.resize_images(images_tf, [224,224])\n",
    "    images = images_tf.eval()\n",
    "\n",
    "    \n",
    "print(type(images))\n",
    "print(images.shape)"
   ]
  },
  {
   "cell_type": "code",
   "execution_count": 10,
   "metadata": {},
   "outputs": [
    {
     "name": "stdout",
     "output_type": "stream",
     "text": [
      "(224, 224, 3)\n"
     ]
    },
    {
     "data": {
      "text/plain": [
       "<matplotlib.image.AxesImage at 0x1a2cd95da0>"
      ]
     },
     "execution_count": 10,
     "metadata": {},
     "output_type": "execute_result"
    },
    {
     "data": {
      "image/png": "[encoded data removed]",
      "text/plain": [
       "<Figure size 432x288 with 1 Axes>"
      ]
     },
     "metadata": {},
     "output_type": "display_data"
    }
   ],
   "source": [
    "print(images[0].shape)\n",
    "plt.imshow(images[0])"
   ]
  },
  {
   "cell_type": "code",
   "execution_count": 37,
   "metadata": {},
   "outputs": [],
   "source": [
    "from keras.models import Sequential\n",
    "from keras.layers import Dropout, Dense, Flatten\n",
    "from keras import optimizers\n",
    "from keras.layers import Dense\n",
    "from keras.layers import Dropout\n",
    "from keras.layers import Flatten\n",
    "from keras.layers.convolutional import Conv2D\n",
    "from keras.layers.convolutional import MaxPooling2D\n",
    "#from keras import backend as K\n",
    "#K.set_image_dim_ordering('th')\n",
    "\n",
    "def model():\n",
    "\t# create model\n",
    "\tmodel = Sequential()\n",
    "\tmodel.add(Conv2D(30, (5, 5), input_shape=(224, 224, 3), activation='relu', data_format=\"channels_last\"))\n",
    "\tmodel.add(MaxPooling2D(pool_size=(2, 2)))\n",
    "\tmodel.add(Conv2D(15, (3, 3), activation='relu'))\n",
    "\tmodel.add(MaxPooling2D(pool_size=(2, 2)))\n",
    "\tmodel.add(Dropout(0.2))\n",
    "\tmodel.add(Flatten())\n",
    "\tmodel.add(Dense(128, activation='relu'))\n",
    "\tmodel.add(Dense(50, activation='relu'))\n",
    "\tmodel.add(Dense(10, activation='softmax'))\n",
    "\t# Compile model\n",
    "\tmodel.compile(loss='categorical_crossentropy', optimizer='adam', metrics=['accuracy'])\n",
    "\treturn model"
   ]
  },
  {
   "cell_type": "code",
   "execution_count": 38,
   "metadata": {},
   "outputs": [
    {
     "name": "stdout",
     "output_type": "stream",
     "text": [
      "(375, 224, 224, 3) (125, 224, 224, 3) (375, 10) (125, 10)\n"
     ]
    }
   ],
   "source": [
    "from sklearn.model_selection import train_test_split\n",
    "from keras.utils import np_utils\n",
    "\n",
    "onehot_labels = np_utils.to_categorical(labels)\n",
    "X_train, X_test, y_train, y_test = train_test_split(images, onehot_labels[:NUMBER_OF_DATA], random_state=42, shuffle=True)\n",
    "print(X_train.shape, X_test.shape, y_train.shape, y_test.shape)"
   ]
  },
  {
   "cell_type": "code",
   "execution_count": 39,
   "metadata": {},
   "outputs": [
    {
     "name": "stdout",
     "output_type": "stream",
     "text": [
      "Train on 375 samples, validate on 125 samples\n",
      "Epoch 1/5\n",
      "375/375 [==============================] - 33s 88ms/step - loss: 2.2204 - acc: 0.2187 - val_loss: 1.9886 - val_acc: 0.4960\n",
      "Epoch 2/5\n",
      "375/375 [==============================] - 30s 80ms/step - loss: 1.7235 - acc: 0.5067 - val_loss: 1.4530 - val_acc: 0.5040\n",
      "Epoch 3/5\n",
      "375/375 [==============================] - 31s 84ms/step - loss: 1.1130 - acc: 0.6533 - val_loss: 1.1942 - val_acc: 0.6560\n",
      "Epoch 4/5\n",
      "375/375 [==============================] - 35s 94ms/step - loss: 0.7646 - acc: 0.7093 - val_loss: 1.1367 - val_acc: 0.6400\n",
      "Epoch 5/5\n",
      "375/375 [==============================] - 35s 93ms/step - loss: 0.5351 - acc: 0.8213 - val_loss: 0.8819 - val_acc: 0.7680\n"
     ]
    },
    {
     "data": {
      "text/plain": [
       "<keras.callbacks.History at 0x1a2d2aa7f0>"
      ]
     },
     "execution_count": 39,
     "metadata": {},
     "output_type": "execute_result"
    }
   ],
   "source": [
    "model = model()\n",
    "model.fit(X_train, y_train, validation_data=(X_test, y_test), epochs=5, batch_size=200)"
   ]
  },
  {
   "cell_type": "code",
   "execution_count": 40,
   "metadata": {},
   "outputs": [
    {
     "name": "stdout",
     "output_type": "stream",
     "text": [
      "[[1.84285687e-04 1.93697579e-05 1.67914887e-03 ... 8.95154426e-06\n",
      "  8.64044356e-04 1.04795545e-02]\n",
      " [3.28130773e-05 4.33853222e-03 1.75034385e-02 ... 7.36412585e-01\n",
      "  1.76161662e-01 5.85521795e-02]\n",
      " [2.33959570e-03 1.77372049e-03 3.06513235e-02 ... 1.33503219e-02\n",
      "  7.83793569e-01 1.18962325e-01]\n",
      " ...\n",
      " [9.38513331e-05 8.09970140e-01 3.64392530e-04 ... 9.30960253e-02\n",
      "  8.08524992e-03 8.45740959e-02]\n",
      " [2.72268504e-02 2.92513396e-05 2.32678070e-03 ... 2.16153916e-03\n",
      "  7.37635717e-02 2.02976679e-03]\n",
      " [1.67591276e-03 8.60349333e-04 7.15830503e-03 ... 4.72953031e-03\n",
      "  3.16831358e-02 9.94645339e-03]]\n",
      "[6 7 8 5 9 9 1 4 3 3 4 0 0 5 2 8 8 3 6 2 6 5 2 5 3 6 9 5 0 3 4 9 0 3 1 5 1\n",
      " 7 9 3 6 3 0 9 6 7 7 6 9 6 2 5 6 7 9 0 0 3 1 9 7 7 3 5 7 1 3 8 4 8 0 9 8 9\n",
      " 5 9 5 0 1 8 1 2 2 2 7 3 1 9 0 2 7 6 7 0 5 5 7 7 7 5 2 4 4 9 1 4 7 7 2 5 1\n",
      " 2 8 0 7 9 2 2 4 9 9 1 1 5 3]\n",
      "[6 9 8 5 9 9 1 7 3 3 9 0 5 8 2 1 8 3 6 3 0 5 2 5 3 6 4 5 0 3 4 9 0 3 1 5 1\n",
      " 7 9 3 6 3 0 9 4 2 7 6 7 6 2 5 6 7 9 0 0 3 1 9 7 7 3 5 7 1 3 1 4 8 5 6 8 8\n",
      " 5 4 8 0 1 8 1 2 2 2 2 3 1 9 0 2 3 6 2 0 8 5 7 7 7 5 2 5 4 9 1 4 7 7 2 5 1\n",
      " 2 3 0 3 9 4 2 4 4 7 1 9 5 3]\n"
     ]
    }
   ],
   "source": [
    "from numpy import argmax\n",
    "\n",
    "y_probs = model.predict(X_test)\n",
    "y_prob_max = np.argmax(y_probs, 1)\n",
    "y_test_max = np.argmax(y_test, 1)\n",
    "print(y_probs)\n",
    "print(y_prob_max)\n",
    "print(y_test_max)"
   ]
  },
  {
   "cell_type": "code",
   "execution_count": 41,
   "metadata": {},
   "outputs": [
    {
     "name": "stdout",
     "output_type": "stream",
     "text": [
      "Accuracy 0.768\n",
      "Precision [0.83333333 0.91666667 0.84615385 1.         0.625      0.8\n",
      " 0.8        0.64705882 0.625      0.58823529]\n",
      "Recall [0.90909091 0.84615385 0.78571429 0.76470588 0.5        0.8\n",
      " 0.88888889 0.78571429 0.55555556 0.76923077]\n",
      "F1 [0.86956522 0.88       0.81481481 0.86666667 0.55555556 0.8\n",
      " 0.84210526 0.70967742 0.58823529 0.66666667]\n",
      "Confusion Matrix [[10, 0, 0, 0, 0, 0, 1, 0, 0, 0], [0, 11, 0, 0, 0, 0, 0, 0, 2, 0], [0, 0, 11, 0, 0, 0, 0, 3, 0, 0], [0, 0, 1, 13, 0, 0, 0, 2, 1, 0], [0, 0, 1, 0, 5, 0, 1, 0, 0, 3], [2, 0, 0, 0, 1, 12, 0, 0, 0, 0], [0, 0, 0, 0, 0, 0, 8, 0, 0, 1], [0, 0, 0, 0, 1, 0, 0, 11, 0, 2], [0, 0, 0, 0, 0, 3, 0, 0, 5, 1], [0, 1, 0, 0, 1, 0, 0, 1, 0, 10]]\n"
     ]
    },
    {
     "data": {
      "image/png": "[encoded data removed]",
      "text/plain": [
       "<Figure size 432x288 with 2 Axes>"
      ]
     },
     "metadata": {},
     "output_type": "display_data"
    }
   ],
   "source": [
    "from sklearn.metrics import confusion_matrix, roc_auc_score, accuracy_score, precision_score, recall_score, f1_score\n",
    "import itertools\n",
    "import matplotlib\n",
    "from matplotlib import pyplot as plt\n",
    "\n",
    "# compute a bunch of classification metrics \n",
    "def classification_metrics(y_true, y_pred, y_prob):\n",
    "    cm_dict = {}\n",
    "    cm_dict['Accuracy'] = accuracy_score(y_true, y_pred)\n",
    "    cm_dict['Precision'] =  precision_score(y_true, y_pred, average=None)\n",
    "    cm_dict['Recall'] =  recall_score(y_true, y_pred, average=None)\n",
    "    cm_dict['F1'] =  f1_score(y_true, y_pred, average=None) \n",
    "    #cm_dict['AUC'] = roc_auc_score(y_true, y_prob[:,0])\n",
    "    cm_dict['Confusion Matrix'] = confusion_matrix(y_true, y_pred).tolist()\n",
    "    return cm_dict\n",
    "\n",
    "def plot_confusion_matrix(cm, classes, normalize=False, title='Confusion matrix', cmap=plt.cm.Blues):\n",
    "    \"\"\"Plots a confusion matrix.\n",
    "    Source: http://scikit-learn.org/stable/auto_examples/model_selection/plot_confusion_matrix.html\n",
    "    New BSD License - see appendix\n",
    "    \"\"\"\n",
    "    cm_max = cm.max()\n",
    "    cm_min = cm.min()\n",
    "    if cm_min > 0: cm_min = 0\n",
    "    if normalize:\n",
    "        cm = cm.astype('float') / cm.sum(axis=1)[:, np.newaxis]\n",
    "        cm_max = 1\n",
    "    plt.imshow(cm, interpolation='nearest', cmap=cmap)\n",
    "    plt.title(title)\n",
    "    plt.colorbar()\n",
    "    tick_marks = np.arange(len(classes))\n",
    "    plt.xticks(tick_marks, classes, rotation=45)\n",
    "    plt.yticks(tick_marks, classes)\n",
    "    thresh = cm_max / 2.\n",
    "    plt.clim(cm_min, cm_max)\n",
    "\n",
    "    for i, j in itertools.product(range(cm.shape[0]), range(cm.shape[1])):\n",
    "        plt.text(j, i,\n",
    "                 round(cm[i, j], 3),  # round to 3 decimals if they are float\n",
    "                 horizontalalignment=\"center\",\n",
    "                 color=\"white\" if cm[i, j] > thresh else \"black\")\n",
    "    plt.ylabel('True label')\n",
    "    plt.xlabel('Predicted label')\n",
    "    plt.show()\n",
    "    \n",
    "cm_dict = classification_metrics(y_test_max, y_prob_max, y_probs)\n",
    "for m in cm_dict:\n",
    "    print(m, cm_dict[m])\n",
    "cm = np.asarray(cm_dict['Confusion Matrix'])\n",
    "plot_confusion_matrix(cm, ['fail','pass'], normalize=False)"
   ]
  },
  {
   "cell_type": "code",
   "execution_count": null,
   "metadata": {},
   "outputs": [],
   "source": []
  }
 ],
 "metadata": {
  "kernelspec": {
   "display_name": "Python 3",
   "language": "python",
   "name": "python3"
  },
  "language_info": {
   "codemirror_mode": {
    "name": "ipython",
    "version": 3
   },
   "file_extension": ".py",
   "mimetype": "text/x-python",
   "name": "python",
   "nbconvert_exporter": "python",
   "pygments_lexer": "ipython3",
   "version": "3.6.6"
  }
 },
 "nbformat": 4,
 "nbformat_minor": 2
}
