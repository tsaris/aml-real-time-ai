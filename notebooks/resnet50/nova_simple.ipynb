{
 "cells": [
  {
   "cell_type": "code",
   "execution_count": 1,
   "metadata": {},
   "outputs": [],
   "source": [
    "import os\n",
    "import sys\n",
    "import tensorflow as tf\n",
    "import numpy as np\n",
    "import amlrealtimeai\n",
    "from amlrealtimeai import resnet50\n",
    "\n",
    "import h5py"
   ]
  },
  {
   "cell_type": "code",
   "execution_count": 2,
   "metadata": {},
   "outputs": [],
   "source": [
    "# Input images as a two-dimensional tensor containing an arbitrary number of images represented a strings\n",
    "import amlrealtimeai.resnet50.utils\n",
    "in_images = tf.placeholder(tf.string)\n",
    "image_tensors = resnet50.utils.preprocess_array(in_images)\n",
    "image_tensors = tf.placeholder(tf.int32,shape=(None,224, 224, 3))"
   ]
  },
  {
   "cell_type": "code",
   "execution_count": 3,
   "metadata": {},
   "outputs": [
    {
     "name": "stderr",
     "output_type": "stream",
     "text": [
      "Using TensorFlow backend.\n"
     ]
    },
    {
     "name": "stdout",
     "output_type": "stream",
     "text": [
      "To sign in, use a web browser to open the page https://microsoft.com/devicelogin and enter the code E7MQHZJQJ to authenticate.\n",
      "1.1.6-rc\n"
     ]
    }
   ],
   "source": [
    "subscription_id = \"80defacd-509e-410c-9812-6e52ed6a0016\"\n",
    "resource_group = \"CMS_FPGA_Resources\"\n",
    "model_management_account = \"CMS_FPGA_1\"\n",
    "\n",
    "from amlrealtimeai.resnet50.model import RemoteQuantizedResNet50\n",
    "model_path = os.path.expanduser('~/models')\n",
    "featurizer = RemoteQuantizedResNet50(subscription_id, resource_group, model_management_account, model_path)\n",
    "print(featurizer.version)"
   ]
  },
  {
   "cell_type": "code",
   "execution_count": 4,
   "metadata": {},
   "outputs": [],
   "source": [
    "featurizer.import_graph_def(include_top=False, input_tensor=image_tensors)\n",
    "features = featurizer.featurizer_output"
   ]
  },
  {
   "cell_type": "code",
   "execution_count": 5,
   "metadata": {
    "scrolled": false
   },
   "outputs": [
    {
     "name": "stderr",
     "output_type": "stream",
     "text": [
      "Clipping input data to the valid range for imshow with RGB data ([0..1] for floats or [0..255] for integers).\n"
     ]
    },
    {
     "name": "stdout",
     "output_type": "stream",
     "text": [
      "(10000, 224, 224, 3)\n",
      "(10000, 1, 1, 2048)\n"
     ]
    },
    {
     "data": {
      "image/png": "[encoded data removed]",
      "text/plain": [
       "<Figure size 432x288 with 1 Axes>"
      ]
     },
     "metadata": {},
     "output_type": "display_data"
    }
   ],
   "source": [
    "import matplotlib.pyplot as plt\n",
    "from tqdm import tqdm\n",
    "\n",
    "%matplotlib inline\n",
    "\n",
    "def chunks(l, n):\n",
    "    \"\"\"Yield successive n-sized chunks from l.\"\"\"\n",
    "    for i in range(0, len(l), n):\n",
    "        yield l[i:i + n]\n",
    "\n",
    "f = h5py.File(\"//Users/atsaris/mygit_repos/ml_service/datasets/HDF5Images/train_small.h5\",'r')\n",
    "images = np.array(f['data'])\n",
    "labels = np.array(f['label'])\n",
    "labels = labels.reshape(labels.shape[0])\n",
    "\n",
    "images1 = images[:, 0, :, :]\n",
    "images2 = images[:, 1, :, :]\n",
    "images1 = images1.reshape(images1.shape[0], images1.shape[1], images1.shape[2], 1).astype('float32')\n",
    "images2 = images2.reshape(images2.shape[0], images2.shape[1], images2.shape[2], 1).astype('float32')\n",
    "images = np.concatenate((images1, images2), axis=2)\n",
    "\n",
    "sess = tf.Session()\n",
    "with sess.as_default():\n",
    "    images_tf = tf.image.grayscale_to_rgb(images)\n",
    "    images_tf = tf.image.resize_images(images_tf, [224,224])\n",
    "    images = images_tf.eval()\n",
    "\n",
    "f.close()\n",
    "    \n",
    "print(images.shape)\n",
    "plt.imshow(images[0])\n",
    "\n",
    "feature_list = []\n",
    "with tf.Session() as sess:\n",
    "    #for chunk in tqdm(chunks(images,50)):\n",
    "    for chunk in chunks(images,50):\n",
    "        result= sess.run([features],feed_dict={image_tensors:chunk})\n",
    "        feature_list.extend(result[0])\n",
    "        \n",
    "feature_results = np.array(feature_list)\n",
    "print(feature_results.shape)"
   ]
  },
  {
   "cell_type": "code",
   "execution_count": 6,
   "metadata": {},
   "outputs": [],
   "source": [
    "from keras.models import Sequential\n",
    "from keras.layers import Dropout, Dense, Flatten\n",
    "from keras import optimizers\n",
    "\n",
    "FC_SIZE = 1024\n",
    "NUM_CLASSES = 5\n",
    "\n",
    "model = Sequential()\n",
    "model.add(Dropout(0.2, input_shape=(1, 1, 2048,)))\n",
    "model.add(Dense(FC_SIZE, activation='relu', input_dim=(1, 1, 2048,)))\n",
    "model.add(Flatten())\n",
    "model.add(Dense(NUM_CLASSES, activation='sigmoid', input_dim=FC_SIZE))\n",
    "\n",
    "model.compile(optimizer=optimizers.SGD(lr=1e-4,momentum=0.9), loss='binary_crossentropy', metrics=['accuracy'])"
   ]
  },
  {
   "cell_type": "code",
   "execution_count": 7,
   "metadata": {},
   "outputs": [
    {
     "name": "stdout",
     "output_type": "stream",
     "text": [
      "(7500, 1, 1, 2048) (2500, 1, 1, 2048) (7500, 5) (2500, 5)\n"
     ]
    }
   ],
   "source": [
    "from sklearn.model_selection import train_test_split\n",
    "from keras.utils import np_utils\n",
    "\n",
    "onehot_labels = np_utils.to_categorical(labels)\n",
    "X_train, X_test, y_train, y_test = train_test_split(feature_results, onehot_labels, random_state=42, shuffle=True)\n",
    "print(X_train.shape, X_test.shape, y_train.shape, y_test.shape)"
   ]
  },
  {
   "cell_type": "code",
   "execution_count": 12,
   "metadata": {},
   "outputs": [
    {
     "name": "stdout",
     "output_type": "stream",
     "text": [
      "Epoch 1/100\n",
      "7500/7500 [==============================] - 2s 250us/step - loss: 0.3732 - acc: 0.8359\n",
      "Epoch 2/100\n",
      "7500/7500 [==============================] - 2s 254us/step - loss: 0.3710 - acc: 0.8373\n",
      "Epoch 3/100\n",
      "7500/7500 [==============================] - 2s 245us/step - loss: 0.3696 - acc: 0.8393\n",
      "Epoch 4/100\n",
      "7500/7500 [==============================] - 2s 262us/step - loss: 0.3677 - acc: 0.8371\n",
      "Epoch 5/100\n",
      "7500/7500 [==============================] - 2s 291us/step - loss: 0.3680 - acc: 0.8383\n",
      "Epoch 6/100\n",
      "7500/7500 [==============================] - 2s 293us/step - loss: 0.3659 - acc: 0.8394\n",
      "Epoch 7/100\n",
      "7500/7500 [==============================] - 2s 296us/step - loss: 0.3656 - acc: 0.8413\n",
      "Epoch 8/100\n",
      "7500/7500 [==============================] - 2s 289us/step - loss: 0.3640 - acc: 0.8399\n",
      "Epoch 9/100\n",
      "7500/7500 [==============================] - 2s 297us/step - loss: 0.3638 - acc: 0.8415\n",
      "Epoch 10/100\n",
      "7500/7500 [==============================] - 2s 305us/step - loss: 0.3628 - acc: 0.8413\n",
      "Epoch 11/100\n",
      "7500/7500 [==============================] - 2s 287us/step - loss: 0.3618 - acc: 0.8420\n",
      "Epoch 12/100\n",
      "7500/7500 [==============================] - 2s 289us/step - loss: 0.3607 - acc: 0.8412\n",
      "Epoch 13/100\n",
      "7500/7500 [==============================] - 2s 303us/step - loss: 0.3603 - acc: 0.8419\n",
      "Epoch 14/100\n",
      "7500/7500 [==============================] - 2s 299us/step - loss: 0.3598 - acc: 0.8427\n",
      "Epoch 15/100\n",
      "7500/7500 [==============================] - 2s 323us/step - loss: 0.3588 - acc: 0.8405\n",
      "Epoch 16/100\n",
      "7500/7500 [==============================] - 3s 360us/step - loss: 0.3572 - acc: 0.8452\n",
      "Epoch 17/100\n",
      "7500/7500 [==============================] - 3s 343us/step - loss: 0.3571 - acc: 0.8437\n",
      "Epoch 18/100\n",
      "7500/7500 [==============================] - 3s 344us/step - loss: 0.3565 - acc: 0.8447\n",
      "Epoch 19/100\n",
      "7500/7500 [==============================] - 3s 347us/step - loss: 0.3551 - acc: 0.8457\n",
      "Epoch 20/100\n",
      "7500/7500 [==============================] - 3s 341us/step - loss: 0.3556 - acc: 0.8444\n",
      "Epoch 21/100\n",
      "7500/7500 [==============================] - 3s 343us/step - loss: 0.3542 - acc: 0.8449\n",
      "Epoch 22/100\n",
      "7500/7500 [==============================] - 3s 346us/step - loss: 0.3542 - acc: 0.8449\n",
      "Epoch 23/100\n",
      "7500/7500 [==============================] - 3s 339us/step - loss: 0.3529 - acc: 0.8463\n",
      "Epoch 24/100\n",
      "7500/7500 [==============================] - 3s 349us/step - loss: 0.3511 - acc: 0.8467\n",
      "Epoch 25/100\n",
      "7500/7500 [==============================] - 3s 336us/step - loss: 0.3511 - acc: 0.8462\n",
      "Epoch 26/100\n",
      "7500/7500 [==============================] - 3s 337us/step - loss: 0.3507 - acc: 0.8458\n",
      "Epoch 27/100\n",
      "7500/7500 [==============================] - 3s 346us/step - loss: 0.3503 - acc: 0.8478\n",
      "Epoch 28/100\n",
      "7500/7500 [==============================] - 3s 341us/step - loss: 0.3494 - acc: 0.8478\n",
      "Epoch 29/100\n",
      "7500/7500 [==============================] - 3s 350us/step - loss: 0.3504 - acc: 0.8456\n",
      "Epoch 30/100\n",
      "7500/7500 [==============================] - 3s 344us/step - loss: 0.3490 - acc: 0.8487\n",
      "Epoch 31/100\n",
      "7500/7500 [==============================] - 3s 337us/step - loss: 0.3491 - acc: 0.8468\n",
      "Epoch 32/100\n",
      "7500/7500 [==============================] - 2s 332us/step - loss: 0.3489 - acc: 0.8469\n",
      "Epoch 33/100\n",
      "7500/7500 [==============================] - 3s 340us/step - loss: 0.3479 - acc: 0.8489\n",
      "Epoch 34/100\n",
      "7500/7500 [==============================] - 3s 336us/step - loss: 0.3475 - acc: 0.8488\n",
      "Epoch 35/100\n",
      "7500/7500 [==============================] - 2s 323us/step - loss: 0.3458 - acc: 0.8505\n",
      "Epoch 36/100\n",
      "7500/7500 [==============================] - 2s 315us/step - loss: 0.3462 - acc: 0.8484\n",
      "Epoch 37/100\n",
      "7500/7500 [==============================] - 2s 272us/step - loss: 0.3471 - acc: 0.8489\n",
      "Epoch 38/100\n",
      "7500/7500 [==============================] - 2s 256us/step - loss: 0.3450 - acc: 0.8495\n",
      "Epoch 39/100\n",
      "7500/7500 [==============================] - 2s 233us/step - loss: 0.3456 - acc: 0.8498\n",
      "Epoch 40/100\n",
      "7500/7500 [==============================] - 2s 237us/step - loss: 0.3453 - acc: 0.8502\n",
      "Epoch 41/100\n",
      "7500/7500 [==============================] - 2s 303us/step - loss: 0.3430 - acc: 0.8511\n",
      "Epoch 42/100\n",
      "7500/7500 [==============================] - 2s 275us/step - loss: 0.3438 - acc: 0.8502\n",
      "Epoch 43/100\n",
      "7500/7500 [==============================] - 2s 257us/step - loss: 0.3436 - acc: 0.8499\n",
      "Epoch 44/100\n",
      "7500/7500 [==============================] - 2s 246us/step - loss: 0.3434 - acc: 0.8501\n",
      "Epoch 45/100\n",
      "7500/7500 [==============================] - 2s 240us/step - loss: 0.3430 - acc: 0.8510\n",
      "Epoch 46/100\n",
      "7500/7500 [==============================] - 2s 253us/step - loss: 0.3417 - acc: 0.8501\n",
      "Epoch 47/100\n",
      "7500/7500 [==============================] - 2s 247us/step - loss: 0.3426 - acc: 0.8496\n",
      "Epoch 48/100\n",
      "7500/7500 [==============================] - 2s 240us/step - loss: 0.3416 - acc: 0.8511\n",
      "Epoch 49/100\n",
      "7500/7500 [==============================] - 2s 248us/step - loss: 0.3408 - acc: 0.8507\n",
      "Epoch 50/100\n",
      "7500/7500 [==============================] - 2s 234us/step - loss: 0.3407 - acc: 0.8520\n",
      "Epoch 51/100\n",
      "7500/7500 [==============================] - 2s 237us/step - loss: 0.3405 - acc: 0.8510\n",
      "Epoch 52/100\n",
      "7500/7500 [==============================] - 2s 238us/step - loss: 0.3398 - acc: 0.8511\n",
      "Epoch 53/100\n",
      "7500/7500 [==============================] - 2s 237us/step - loss: 0.3399 - acc: 0.8517\n",
      "Epoch 54/100\n",
      "7500/7500 [==============================] - 2s 241us/step - loss: 0.3393 - acc: 0.8515\n",
      "Epoch 55/100\n",
      "7500/7500 [==============================] - 2s 234us/step - loss: 0.3394 - acc: 0.8521\n",
      "Epoch 56/100\n",
      "7500/7500 [==============================] - 2s 234us/step - loss: 0.3385 - acc: 0.8515\n",
      "Epoch 57/100\n",
      "7500/7500 [==============================] - 2s 242us/step - loss: 0.3386 - acc: 0.8523\n",
      "Epoch 58/100\n",
      "7500/7500 [==============================] - 2s 237us/step - loss: 0.3374 - acc: 0.8528\n",
      "Epoch 59/100\n",
      "7500/7500 [==============================] - 2s 239us/step - loss: 0.3366 - acc: 0.8536\n",
      "Epoch 60/100\n",
      "7500/7500 [==============================] - 2s 241us/step - loss: 0.3365 - acc: 0.8534\n",
      "Epoch 61/100\n",
      "7500/7500 [==============================] - 2s 244us/step - loss: 0.3366 - acc: 0.8524\n",
      "Epoch 62/100\n",
      "7500/7500 [==============================] - 2s 242us/step - loss: 0.3374 - acc: 0.8523\n",
      "Epoch 63/100\n",
      "7500/7500 [==============================] - 2s 243us/step - loss: 0.3358 - acc: 0.8544\n",
      "Epoch 64/100\n",
      "7500/7500 [==============================] - 2s 246us/step - loss: 0.3353 - acc: 0.8530\n",
      "Epoch 65/100\n",
      "7500/7500 [==============================] - 2s 269us/step - loss: 0.3359 - acc: 0.8538\n",
      "Epoch 66/100\n",
      "7500/7500 [==============================] - 2s 270us/step - loss: 0.3363 - acc: 0.8529\n",
      "Epoch 67/100\n",
      "7500/7500 [==============================] - 2s 256us/step - loss: 0.3357 - acc: 0.8533\n",
      "Epoch 68/100\n",
      "7500/7500 [==============================] - 2s 251us/step - loss: 0.3363 - acc: 0.8511\n",
      "Epoch 69/100\n",
      "7500/7500 [==============================] - 2s 253us/step - loss: 0.3350 - acc: 0.8540\n",
      "Epoch 70/100\n",
      "7500/7500 [==============================] - 2s 250us/step - loss: 0.3352 - acc: 0.8531\n",
      "Epoch 71/100\n",
      "7500/7500 [==============================] - 2s 263us/step - loss: 0.3342 - acc: 0.8547\n",
      "Epoch 72/100\n",
      "7500/7500 [==============================] - 2s 285us/step - loss: 0.3341 - acc: 0.8549\n",
      "Epoch 73/100\n",
      "7500/7500 [==============================] - 2s 253us/step - loss: 0.3353 - acc: 0.8530\n",
      "Epoch 74/100\n",
      "7500/7500 [==============================] - 2s 247us/step - loss: 0.3329 - acc: 0.8546\n",
      "Epoch 75/100\n",
      "7500/7500 [==============================] - 2s 236us/step - loss: 0.3338 - acc: 0.8540\n",
      "Epoch 76/100\n",
      "7500/7500 [==============================] - 2s 234us/step - loss: 0.3328 - acc: 0.8537\n",
      "Epoch 77/100\n",
      "7500/7500 [==============================] - 2s 232us/step - loss: 0.3328 - acc: 0.8552\n",
      "Epoch 78/100\n",
      "7500/7500 [==============================] - 2s 230us/step - loss: 0.3324 - acc: 0.8538\n",
      "Epoch 79/100\n",
      "7500/7500 [==============================] - 2s 235us/step - loss: 0.3324 - acc: 0.8548\n",
      "Epoch 80/100\n",
      "7500/7500 [==============================] - 2s 240us/step - loss: 0.3314 - acc: 0.8543\n",
      "Epoch 81/100\n",
      "7500/7500 [==============================] - 2s 242us/step - loss: 0.3318 - acc: 0.8556\n",
      "Epoch 82/100\n"
     ]
    },
    {
     "name": "stdout",
     "output_type": "stream",
     "text": [
      "7500/7500 [==============================] - 2s 243us/step - loss: 0.3307 - acc: 0.8561\n",
      "Epoch 83/100\n",
      "7500/7500 [==============================] - 2s 238us/step - loss: 0.3311 - acc: 0.8556\n",
      "Epoch 84/100\n",
      "7500/7500 [==============================] - 2s 271us/step - loss: 0.3319 - acc: 0.8551\n",
      "Epoch 85/100\n",
      "7500/7500 [==============================] - 2s 321us/step - loss: 0.3313 - acc: 0.8550\n",
      "Epoch 86/100\n",
      "7500/7500 [==============================] - 2s 289us/step - loss: 0.3297 - acc: 0.8565\n",
      "Epoch 87/100\n",
      "7500/7500 [==============================] - 2s 318us/step - loss: 0.3309 - acc: 0.8550\n",
      "Epoch 88/100\n",
      "7500/7500 [==============================] - 2s 311us/step - loss: 0.3297 - acc: 0.8569\n",
      "Epoch 89/100\n",
      "7500/7500 [==============================] - 2s 313us/step - loss: 0.3305 - acc: 0.8557\n",
      "Epoch 90/100\n",
      "7500/7500 [==============================] - 2s 313us/step - loss: 0.3304 - acc: 0.8556\n",
      "Epoch 91/100\n",
      "7500/7500 [==============================] - 2s 310us/step - loss: 0.3289 - acc: 0.8558\n",
      "Epoch 92/100\n",
      "7500/7500 [==============================] - 2s 309us/step - loss: 0.3291 - acc: 0.8570\n",
      "Epoch 93/100\n",
      "7500/7500 [==============================] - 2s 300us/step - loss: 0.3289 - acc: 0.8565\n",
      "Epoch 94/100\n",
      "7500/7500 [==============================] - 2s 297us/step - loss: 0.3290 - acc: 0.8565\n",
      "Epoch 95/100\n",
      "7500/7500 [==============================] - 2s 297us/step - loss: 0.3294 - acc: 0.8561\n",
      "Epoch 96/100\n",
      "7500/7500 [==============================] - 2s 311us/step - loss: 0.3293 - acc: 0.8566\n",
      "Epoch 97/100\n",
      "7500/7500 [==============================] - 2s 304us/step - loss: 0.3285 - acc: 0.8554\n",
      "Epoch 98/100\n",
      "7500/7500 [==============================] - 2s 304us/step - loss: 0.3281 - acc: 0.8568\n",
      "Epoch 99/100\n",
      "7500/7500 [==============================] - 2s 308us/step - loss: 0.3275 - acc: 0.8581\n",
      "Epoch 100/100\n",
      "7500/7500 [==============================] - 2s 312us/step - loss: 0.3273 - acc: 0.8580\n"
     ]
    },
    {
     "data": {
      "text/plain": [
       "<keras.callbacks.History at 0x1a3321f780>"
      ]
     },
     "execution_count": 12,
     "metadata": {},
     "output_type": "execute_result"
    }
   ],
   "source": [
    "model.fit(X_train, y_train, epochs=100, batch_size=32)"
   ]
  },
  {
   "cell_type": "code",
   "execution_count": 13,
   "metadata": {},
   "outputs": [
    {
     "name": "stdout",
     "output_type": "stream",
     "text": [
      "[[0.01647069 0.9733935  0.04283217 0.00255974 0.02058058]\n",
      " [0.15101701 0.16137546 0.01384765 0.5893849  0.16406521]\n",
      " [0.835593   0.0995993  0.02503943 0.11049128 0.02657235]\n",
      " ...\n",
      " [0.18449202 0.6125358  0.02585943 0.03604557 0.08427055]\n",
      " [0.11724138 0.15383503 0.01250111 0.6015305  0.23236081]\n",
      " [0.23405686 0.13941704 0.02067658 0.5516338  0.07988331]]\n",
      "[1 3 0 ... 1 3 3]\n",
      "[1 3 3 ... 1 3 3]\n"
     ]
    }
   ],
   "source": [
    "from numpy import argmax\n",
    "\n",
    "y_probs = model.predict(X_test)\n",
    "y_prob_max = np.argmax(y_probs, 1)\n",
    "y_test_max = np.argmax(y_test, 1)\n",
    "print(y_probs)\n",
    "print(y_prob_max)\n",
    "print(y_test_max)"
   ]
  },
  {
   "cell_type": "code",
   "execution_count": 14,
   "metadata": {},
   "outputs": [
    {
     "name": "stdout",
     "output_type": "stream",
     "text": [
      "Accuracy 0.62\n",
      "Precision [0.62128713 0.75049116 0.27160494 0.56255969 1.        ]\n",
      "Recall [0.69432918 0.59133127 0.14379085 0.75609756 0.27638191]\n",
      "F1 [0.65578054 0.66147186 0.18803419 0.64512596 0.43307087]\n",
      "Confusion Matrix [[502, 18, 24, 179, 0], [99, 382, 6, 159, 0], [63, 23, 22, 45, 0], [139, 22, 29, 589, 0], [5, 64, 0, 75, 55]]\n"
     ]
    },
    {
     "data": {
      "image/png": "[encoded data removed]",
      "text/plain": [
       "<Figure size 432x288 with 2 Axes>"
      ]
     },
     "metadata": {},
     "output_type": "display_data"
    }
   ],
   "source": [
    "from sklearn.metrics import confusion_matrix, roc_auc_score, accuracy_score, precision_score, recall_score, f1_score\n",
    "import itertools\n",
    "import matplotlib\n",
    "from matplotlib import pyplot as plt\n",
    "\n",
    "# compute a bunch of classification metrics \n",
    "def classification_metrics(y_true, y_pred, y_prob):\n",
    "    cm_dict = {}\n",
    "    cm_dict['Accuracy'] = accuracy_score(y_true, y_pred)\n",
    "    cm_dict['Precision'] =  precision_score(y_true, y_pred, average=None)\n",
    "    cm_dict['Recall'] =  recall_score(y_true, y_pred, average=None)\n",
    "    cm_dict['F1'] =  f1_score(y_true, y_pred, average=None) \n",
    "    #cm_dict['AUC'] = roc_auc_score(y_true, y_prob[:,0])\n",
    "    cm_dict['Confusion Matrix'] = confusion_matrix(y_true, y_pred).tolist()\n",
    "    return cm_dict\n",
    "\n",
    "def plot_confusion_matrix(cm, classes, normalize=False, title='Confusion matrix', cmap=plt.cm.Blues):\n",
    "    \"\"\"Plots a confusion matrix.\n",
    "    Source: http://scikit-learn.org/stable/auto_examples/model_selection/plot_confusion_matrix.html\n",
    "    New BSD License - see appendix\n",
    "    \"\"\"\n",
    "    cm_max = cm.max()\n",
    "    cm_min = cm.min()\n",
    "    if cm_min > 0: cm_min = 0\n",
    "    if normalize:\n",
    "        cm = cm.astype('float') / cm.sum(axis=1)[:, np.newaxis]\n",
    "        cm_max = 1\n",
    "    plt.imshow(cm, interpolation='nearest', cmap=cmap)\n",
    "    plt.title(title)\n",
    "    plt.colorbar()\n",
    "    tick_marks = np.arange(len(classes))\n",
    "    plt.xticks(tick_marks, classes, rotation=45)\n",
    "    plt.yticks(tick_marks, classes)\n",
    "    thresh = cm_max / 2.\n",
    "    plt.clim(cm_min, cm_max)\n",
    "\n",
    "    for i, j in itertools.product(range(cm.shape[0]), range(cm.shape[1])):\n",
    "        plt.text(j, i,\n",
    "                 round(cm[i, j], 3),  # round to 3 decimals if they are float\n",
    "                 horizontalalignment=\"center\",\n",
    "                 color=\"white\" if cm[i, j] > thresh else \"black\")\n",
    "    plt.ylabel('True label')\n",
    "    plt.xlabel('Predicted label')\n",
    "    plt.show()\n",
    "    \n",
    "cm_dict = classification_metrics(y_test_max, y_prob_max, y_probs)\n",
    "for m in cm_dict:\n",
    "    print(m, cm_dict[m])\n",
    "cm = np.asarray(cm_dict['Confusion Matrix'])\n",
    "plot_confusion_matrix(cm, ['numu','nue','nutau','nc','cosmic'], normalize=False)"
   ]
  },
  {
   "cell_type": "code",
   "execution_count": 15,
   "metadata": {},
   "outputs": [],
   "source": [
    "featurizer.cleanup_remote_service()"
   ]
  },
  {
   "cell_type": "code",
   "execution_count": null,
   "metadata": {},
   "outputs": [],
   "source": []
  }
 ],
 "metadata": {
  "kernelspec": {
   "display_name": "Python 3",
   "language": "python",
   "name": "python3"
  },
  "language_info": {
   "codemirror_mode": {
    "name": "ipython",
    "version": 3
   },
   "file_extension": ".py",
   "mimetype": "text/x-python",
   "name": "python",
   "nbconvert_exporter": "python",
   "pygments_lexer": "ipython3",
   "version": "3.6.6"
  }
 },
 "nbformat": 4,
 "nbformat_minor": 2
}
